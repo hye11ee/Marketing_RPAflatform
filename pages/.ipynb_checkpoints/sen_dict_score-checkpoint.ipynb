{
 "cells": [
  {
   "cell_type": "code",
   "execution_count": 1,
   "metadata": {},
   "outputs": [
    {
     "name": "stderr",
     "output_type": "stream",
     "text": [
      "/Users/luvooya/miniforge3/envs/tensorflow/lib/python3.9/site-packages/scipy/__init__.py:146: UserWarning: A NumPy version >=1.16.5 and <1.23.0 is required for this version of SciPy (detected version 1.23.3\n",
      "  warnings.warn(f\"A NumPy version >={np_minversion} and <{np_maxversion}\"\n"
     ]
    },
    {
     "name": "stdout",
     "output_type": "stream",
     "text": [
      "Init Plugin\n",
      "Init Graph Optimizer\n",
      "Init Kernel\n"
     ]
    }
   ],
   "source": [
    "import re\n",
    "import pandas as pd\n",
    "import numpy as np\n",
    "import matplotlib.pyplot as plt\n",
    "import urllib.request\n",
    "from collections import Counter\n",
    "from konlpy.tag import Okt\n",
    "from tqdm import tqdm\n",
    "from sklearn.model_selection import train_test_split\n",
    "from tensorflow.keras.preprocessing.text import Tokenizer\n",
    "from tensorflow.keras.preprocessing.sequence import pad_sequences\n",
    "from sklearn.feature_extraction.text import CountVectorizer \n",
    "from wordcloud import WordCloud"
   ]
  },
  {
   "cell_type": "code",
   "execution_count": 2,
   "metadata": {},
   "outputs": [],
   "source": [
    "# 경로 불러오기\n",
    "# 데이터 불러오기   \n",
    "\n",
    "# 긍부정 데이터가 한 파일에 있다고 가정하고 진행 *********************************************\n",
    "\n",
    "def get_data_sent_dict(product_name='', count=0):\n",
    "  \"\"\"\n",
    "  product_name : 검색키워드(제품명)\n",
    "  count : 분석 실행 횟수 -> 추후 함수끼리 연결하면서 변경 필요 \n",
    "  \"\"\"\n",
    "\n",
    "  \n",
    "  path = '../data/제품/shin_naver_500.csv'\n",
    "  total_review = pd.read_csv(path)\n",
    "  #total_review = total_review[:8000] # 추후 삭제 필요 **********************\n",
    "\n",
    "  #print(total_review.info())\n",
    "  sample_data=total_review['review']\n",
    "\n",
    "  return sample_data, total_review"
   ]
  },
  {
   "cell_type": "code",
   "execution_count": 3,
   "metadata": {},
   "outputs": [],
   "source": [
    "sample_data, total_review=get_data_sent_dict()"
   ]
  },
  {
   "cell_type": "code",
   "execution_count": 4,
   "metadata": {},
   "outputs": [
    {
     "data": {
      "text/html": [
       "<div>\n",
       "<style scoped>\n",
       "    .dataframe tbody tr th:only-of-type {\n",
       "        vertical-align: middle;\n",
       "    }\n",
       "\n",
       "    .dataframe tbody tr th {\n",
       "        vertical-align: top;\n",
       "    }\n",
       "\n",
       "    .dataframe thead th {\n",
       "        text-align: right;\n",
       "    }\n",
       "</style>\n",
       "<table border=\"1\" class=\"dataframe\">\n",
       "  <thead>\n",
       "    <tr style=\"text-align: right;\">\n",
       "      <th></th>\n",
       "      <th>type</th>\n",
       "      <th>review</th>\n",
       "      <th>star</th>\n",
       "      <th>date</th>\n",
       "      <th>site</th>\n",
       "    </tr>\n",
       "  </thead>\n",
       "  <tbody>\n",
       "    <tr>\n",
       "      <th>0</th>\n",
       "      <td>농심 신라면</td>\n",
       "      <td>제 2의 주식. 쌀과 같은 존재.</td>\n",
       "      <td>5</td>\n",
       "      <td>221118</td>\n",
       "      <td>롯데마트</td>\n",
       "    </tr>\n",
       "    <tr>\n",
       "      <th>1</th>\n",
       "      <td>농심 신라면</td>\n",
       "      <td>라면 왜이리 오르는지요....농심을 떠날때가 되었나...</td>\n",
       "      <td>5</td>\n",
       "      <td>221117</td>\n",
       "      <td>SSG닷컴</td>\n",
       "    </tr>\n",
       "    <tr>\n",
       "      <th>2</th>\n",
       "      <td>농심 신라면</td>\n",
       "      <td>면발이 쫀득하고 국물이 얼큰해요 다아는맛 맛있어요</td>\n",
       "      <td>5</td>\n",
       "      <td>221117</td>\n",
       "      <td>롯데마트</td>\n",
       "    </tr>\n",
       "    <tr>\n",
       "      <th>3</th>\n",
       "      <td>농심 신라면</td>\n",
       "      <td>좋아하지는 않는데 가끔 생각나서 구매했습니다</td>\n",
       "      <td>4</td>\n",
       "      <td>221117</td>\n",
       "      <td>롯데마트</td>\n",
       "    </tr>\n",
       "    <tr>\n",
       "      <th>4</th>\n",
       "      <td>농심 신라면</td>\n",
       "      <td>자주 먹진 않아도 비상식품으로 갖춰둡니다.</td>\n",
       "      <td>5</td>\n",
       "      <td>221117</td>\n",
       "      <td>롯데마트</td>\n",
       "    </tr>\n",
       "    <tr>\n",
       "      <th>...</th>\n",
       "      <td>...</td>\n",
       "      <td>...</td>\n",
       "      <td>...</td>\n",
       "      <td>...</td>\n",
       "      <td>...</td>\n",
       "    </tr>\n",
       "    <tr>\n",
       "      <th>3775</th>\n",
       "      <td>농심 신라면</td>\n",
       "      <td>언제나 쟁여두고 먹는 신라면!</td>\n",
       "      <td>5</td>\n",
       "      <td>221105</td>\n",
       "      <td>롯데ON</td>\n",
       "    </tr>\n",
       "    <tr>\n",
       "      <th>3776</th>\n",
       "      <td>농심 신라면</td>\n",
       "      <td>좋아요마니파세요잘먹알께요</td>\n",
       "      <td>5</td>\n",
       "      <td>221105</td>\n",
       "      <td>Homeplus</td>\n",
       "    </tr>\n",
       "    <tr>\n",
       "      <th>3777</th>\n",
       "      <td>농심 신라면</td>\n",
       "      <td>신라면은 언제나 맛있습니다</td>\n",
       "      <td>5</td>\n",
       "      <td>221105</td>\n",
       "      <td>11번가</td>\n",
       "    </tr>\n",
       "    <tr>\n",
       "      <th>3778</th>\n",
       "      <td>농심 신라면</td>\n",
       "      <td>포장꼼꼼하고 맛있고 좋아여.</td>\n",
       "      <td>5</td>\n",
       "      <td>221105</td>\n",
       "      <td>GSSHOP</td>\n",
       "    </tr>\n",
       "    <tr>\n",
       "      <th>3779</th>\n",
       "      <td>농심 신라면</td>\n",
       "      <td>신라면 떨어지면 쟁여놔야죠</td>\n",
       "      <td>5</td>\n",
       "      <td>221105</td>\n",
       "      <td>이마트몰</td>\n",
       "    </tr>\n",
       "  </tbody>\n",
       "</table>\n",
       "<p>3780 rows × 5 columns</p>\n",
       "</div>"
      ],
      "text/plain": [
       "        type                           review  star    date      site\n",
       "0     농심 신라면               제 2의 주식. 쌀과 같은 존재.     5  221118      롯데마트\n",
       "1     농심 신라면  라면 왜이리 오르는지요....농심을 떠날때가 되었나...     5  221117     SSG닷컴\n",
       "2     농심 신라면      면발이 쫀득하고 국물이 얼큰해요 다아는맛 맛있어요     5  221117      롯데마트\n",
       "3     농심 신라면         좋아하지는 않는데 가끔 생각나서 구매했습니다     4  221117      롯데마트\n",
       "4     농심 신라면          자주 먹진 않아도 비상식품으로 갖춰둡니다.     5  221117      롯데마트\n",
       "...      ...                              ...   ...     ...       ...\n",
       "3775  농심 신라면                 언제나 쟁여두고 먹는 신라면!     5  221105      롯데ON\n",
       "3776  농심 신라면                    좋아요마니파세요잘먹알께요     5  221105  Homeplus\n",
       "3777  농심 신라면                   신라면은 언제나 맛있습니다     5  221105      11번가\n",
       "3778  농심 신라면                  포장꼼꼼하고 맛있고 좋아여.     5  221105    GSSHOP\n",
       "3779  농심 신라면                   신라면 떨어지면 쟁여놔야죠     5  221105      이마트몰\n",
       "\n",
       "[3780 rows x 5 columns]"
      ]
     },
     "execution_count": 4,
     "metadata": {},
     "output_type": "execute_result"
    }
   ],
   "source": [
    "total_review"
   ]
  },
  {
   "cell_type": "code",
   "execution_count": 5,
   "metadata": {},
   "outputs": [
    {
     "data": {
      "text/plain": [
       "0                    제 2의 주식. 쌀과 같은 존재.\n",
       "1       라면 왜이리 오르는지요....농심을 떠날때가 되었나...\n",
       "2           면발이 쫀득하고 국물이 얼큰해요 다아는맛 맛있어요\n",
       "3              좋아하지는 않는데 가끔 생각나서 구매했습니다\n",
       "4               자주 먹진 않아도 비상식품으로 갖춰둡니다.\n",
       "                     ...               \n",
       "3775                   언제나 쟁여두고 먹는 신라면!\n",
       "3776                      좋아요마니파세요잘먹알께요\n",
       "3777                     신라면은 언제나 맛있습니다\n",
       "3778                    포장꼼꼼하고 맛있고 좋아여.\n",
       "3779                     신라면 떨어지면 쟁여놔야죠\n",
       "Name: review, Length: 3780, dtype: object"
      ]
     },
     "execution_count": 5,
     "metadata": {},
     "output_type": "execute_result"
    }
   ],
   "source": [
    "sample_data"
   ]
  },
  {
   "cell_type": "code",
   "execution_count": 6,
   "metadata": {},
   "outputs": [],
   "source": [
    "# 감성사전 가져오기\n",
    "import json\n",
    "with open('../data/SentiWord_info.json', encoding='utf-8-sig', mode='r') as f:\n",
    "    data = json.load(f)"
   ]
  },
  {
   "cell_type": "markdown",
   "metadata": {},
   "source": [
    "### 1. 토큰화 함수"
   ]
  },
  {
   "cell_type": "code",
   "execution_count": 10,
   "metadata": {},
   "outputs": [],
   "source": [
    "okt=Okt()\n",
    "sample_data_normalize=sample_data.apply(okt.normalize)\n"
   ]
  },
  {
   "cell_type": "code",
   "execution_count": 15,
   "metadata": {},
   "outputs": [
    {
     "ename": "AttributeError",
     "evalue": "'java.lang.String' object has no attribute 'to_string'",
     "output_type": "error",
     "traceback": [
      "\u001b[0;31m---------------------------------------------------------------------------\u001b[0m",
      "\u001b[0;31mAttributeError\u001b[0m                            Traceback (most recent call last)",
      "\u001b[1;32m/Users/luvooya/Desktop/EDEN_TNS_project/Personal_Folders/Hyelee/pages/sen_dict_score.ipynb 셀 9\u001b[0m in \u001b[0;36m<cell line: 1>\u001b[0;34m()\u001b[0m\n\u001b[0;32m----> <a href='vscode-notebook-cell:/Users/luvooya/Desktop/EDEN_TNS_project/Personal_Folders/Hyelee/pages/sen_dict_score.ipynb#X42sZmlsZQ%3D%3D?line=0'>1</a>\u001b[0m sample_data_normalize[\u001b[39m1\u001b[39;49m]\u001b[39m.\u001b[39;49mto_string()\n",
      "\u001b[0;31mAttributeError\u001b[0m: 'java.lang.String' object has no attribute 'to_string'"
     ]
    }
   ],
   "source": [
    "sample_data_normalize[1]"
   ]
  },
  {
   "cell_type": "code",
   "execution_count": 16,
   "metadata": {},
   "outputs": [
    {
     "ename": "AssertionError",
     "evalue": "phrase input should be string, not <java class 'java.lang.String'>",
     "output_type": "error",
     "traceback": [
      "\u001b[0;31m---------------------------------------------------------------------------\u001b[0m",
      "\u001b[0;31mAssertionError\u001b[0m                            Traceback (most recent call last)",
      "\u001b[1;32m/Users/luvooya/Desktop/EDEN_TNS_project/Personal_Folders/Hyelee/pages/sen_dict_score.ipynb 셀 10\u001b[0m in \u001b[0;36m<cell line: 1>\u001b[0;34m()\u001b[0m\n\u001b[0;32m----> <a href='vscode-notebook-cell:/Users/luvooya/Desktop/EDEN_TNS_project/Personal_Folders/Hyelee/pages/sen_dict_score.ipynb#X41sZmlsZQ%3D%3D?line=0'>1</a>\u001b[0m okt\u001b[39m.\u001b[39;49mmorphs(sample_data_normalize[\u001b[39m1\u001b[39;49m])\n",
      "File \u001b[0;32m~/miniforge3/envs/tensorflow/lib/python3.9/site-packages/konlpy/tag/_okt.py:89\u001b[0m, in \u001b[0;36mOkt.morphs\u001b[0;34m(self, phrase, norm, stem)\u001b[0m\n\u001b[1;32m     86\u001b[0m \u001b[39mdef\u001b[39;00m \u001b[39mmorphs\u001b[39m(\u001b[39mself\u001b[39m, phrase, norm\u001b[39m=\u001b[39m\u001b[39mFalse\u001b[39;00m, stem\u001b[39m=\u001b[39m\u001b[39mFalse\u001b[39;00m):\n\u001b[1;32m     87\u001b[0m     \u001b[39m\"\"\"Parse phrase to morphemes.\"\"\"\u001b[39;00m\n\u001b[0;32m---> 89\u001b[0m     \u001b[39mreturn\u001b[39;00m [s \u001b[39mfor\u001b[39;00m s, t \u001b[39min\u001b[39;00m \u001b[39mself\u001b[39;49m\u001b[39m.\u001b[39;49mpos(phrase, norm\u001b[39m=\u001b[39;49mnorm, stem\u001b[39m=\u001b[39;49mstem)]\n",
      "File \u001b[0;32m~/miniforge3/envs/tensorflow/lib/python3.9/site-packages/konlpy/tag/_okt.py:69\u001b[0m, in \u001b[0;36mOkt.pos\u001b[0;34m(self, phrase, norm, stem, join)\u001b[0m\n\u001b[1;32m     58\u001b[0m \u001b[39mdef\u001b[39;00m \u001b[39mpos\u001b[39m(\u001b[39mself\u001b[39m, phrase, norm\u001b[39m=\u001b[39m\u001b[39mFalse\u001b[39;00m, stem\u001b[39m=\u001b[39m\u001b[39mFalse\u001b[39;00m, join\u001b[39m=\u001b[39m\u001b[39mFalse\u001b[39;00m):\n\u001b[1;32m     59\u001b[0m     \u001b[39m\"\"\"POS tagger.\u001b[39;00m\n\u001b[1;32m     60\u001b[0m \u001b[39m    In contrast to other classes in this subpackage,\u001b[39;00m\n\u001b[1;32m     61\u001b[0m \u001b[39m    this POS tagger doesn't have a `flatten` option,\u001b[39;00m\n\u001b[0;32m   (...)\u001b[0m\n\u001b[1;32m     67\u001b[0m \u001b[39m    :param join: If True, returns joined sets of morph and tag.\u001b[39;00m\n\u001b[1;32m     68\u001b[0m \u001b[39m    \"\"\"\u001b[39;00m\n\u001b[0;32m---> 69\u001b[0m     validate_phrase_inputs(phrase)\n\u001b[1;32m     71\u001b[0m     tokens \u001b[39m=\u001b[39m \u001b[39mself\u001b[39m\u001b[39m.\u001b[39mjki\u001b[39m.\u001b[39mtokenize(\n\u001b[1;32m     72\u001b[0m                 phrase,\n\u001b[1;32m     73\u001b[0m                 jpype\u001b[39m.\u001b[39mjava\u001b[39m.\u001b[39mlang\u001b[39m.\u001b[39mBoolean(norm),\n\u001b[1;32m     74\u001b[0m                 jpype\u001b[39m.\u001b[39mjava\u001b[39m.\u001b[39mlang\u001b[39m.\u001b[39mBoolean(stem))\u001b[39m.\u001b[39mtoArray()\n\u001b[1;32m     75\u001b[0m     \u001b[39mif\u001b[39;00m join:\n",
      "File \u001b[0;32m~/miniforge3/envs/tensorflow/lib/python3.9/site-packages/konlpy/tag/_common.py:20\u001b[0m, in \u001b[0;36mvalidate_phrase_inputs\u001b[0;34m(phrase)\u001b[0m\n\u001b[1;32m     14\u001b[0m \u001b[39m\"\"\"validate if phrase input is provided in str format\u001b[39;00m\n\u001b[1;32m     15\u001b[0m \n\u001b[1;32m     16\u001b[0m \u001b[39mArgs:\u001b[39;00m\n\u001b[1;32m     17\u001b[0m \u001b[39m    phrase (str): phrase input\u001b[39;00m\n\u001b[1;32m     18\u001b[0m \u001b[39m\"\"\"\u001b[39;00m\n\u001b[1;32m     19\u001b[0m msg \u001b[39m=\u001b[39m \u001b[39m\"\u001b[39m\u001b[39mphrase input should be string, not \u001b[39m\u001b[39m%s\u001b[39;00m\u001b[39m\"\u001b[39m \u001b[39m%\u001b[39m \u001b[39mtype\u001b[39m(phrase)\n\u001b[0;32m---> 20\u001b[0m \u001b[39massert\u001b[39;00m \u001b[39misinstance\u001b[39m(phrase, basestring), msg\n",
      "\u001b[0;31mAssertionError\u001b[0m: phrase input should be string, not <java class 'java.lang.String'>"
     ]
    }
   ],
   "source": [
    "okt.morphs(sample_data_normalize[1])"
   ]
  },
  {
   "cell_type": "code",
   "execution_count": 7,
   "metadata": {},
   "outputs": [],
   "source": [
    "def tokenize(sample_data):\n",
    "    okt=Okt()\n",
    "\n",
    "    sample_data_normalize=sample_data.apply(okt.normalize)\n",
    "    \n",
    "    tokenized_sent=[]\n",
    "    for i in range(len(sample_data)):\n",
    "        tokenized_sent.append(okt.morphs(sample_data_normalize[i], stem=True)) \n",
    "        \n",
    "    return tokenized_sent    "
   ]
  },
  {
   "cell_type": "code",
   "execution_count": 9,
   "metadata": {},
   "outputs": [
    {
     "ename": "AssertionError",
     "evalue": "phrase input should be string, not <java class 'java.lang.String'>",
     "output_type": "error",
     "traceback": [
      "\u001b[0;31m---------------------------------------------------------------------------\u001b[0m",
      "\u001b[0;31mAssertionError\u001b[0m                            Traceback (most recent call last)",
      "\u001b[1;32m/Users/luvooya/Desktop/EDEN_TNS_project/Personal_Folders/Hyelee/pages/sen_dict_score.ipynb 셀 9\u001b[0m in \u001b[0;36m<cell line: 1>\u001b[0;34m()\u001b[0m\n\u001b[0;32m----> <a href='vscode-notebook-cell:/Users/luvooya/Desktop/EDEN_TNS_project/Personal_Folders/Hyelee/pages/sen_dict_score.ipynb#X11sZmlsZQ%3D%3D?line=0'>1</a>\u001b[0m tokenized_sent\u001b[39m=\u001b[39mtokenize(sample_data)\n",
      "\u001b[1;32m/Users/luvooya/Desktop/EDEN_TNS_project/Personal_Folders/Hyelee/pages/sen_dict_score.ipynb 셀 9\u001b[0m in \u001b[0;36mtokenize\u001b[0;34m(sample_data)\u001b[0m\n\u001b[1;32m      <a href='vscode-notebook-cell:/Users/luvooya/Desktop/EDEN_TNS_project/Personal_Folders/Hyelee/pages/sen_dict_score.ipynb#X11sZmlsZQ%3D%3D?line=5'>6</a>\u001b[0m tokenized_sent\u001b[39m=\u001b[39m[]\n\u001b[1;32m      <a href='vscode-notebook-cell:/Users/luvooya/Desktop/EDEN_TNS_project/Personal_Folders/Hyelee/pages/sen_dict_score.ipynb#X11sZmlsZQ%3D%3D?line=6'>7</a>\u001b[0m \u001b[39mfor\u001b[39;00m i \u001b[39min\u001b[39;00m \u001b[39mrange\u001b[39m(\u001b[39mlen\u001b[39m(sample_data)):\n\u001b[0;32m----> <a href='vscode-notebook-cell:/Users/luvooya/Desktop/EDEN_TNS_project/Personal_Folders/Hyelee/pages/sen_dict_score.ipynb#X11sZmlsZQ%3D%3D?line=7'>8</a>\u001b[0m     tokenized_sent\u001b[39m.\u001b[39mappend(okt\u001b[39m.\u001b[39;49mmorphs(sample_data_normalize[i], stem\u001b[39m=\u001b[39;49m\u001b[39mTrue\u001b[39;49;00m)) \n\u001b[1;32m     <a href='vscode-notebook-cell:/Users/luvooya/Desktop/EDEN_TNS_project/Personal_Folders/Hyelee/pages/sen_dict_score.ipynb#X11sZmlsZQ%3D%3D?line=9'>10</a>\u001b[0m \u001b[39mreturn\u001b[39;00m tokenized_sent\n",
      "File \u001b[0;32m~/miniforge3/envs/tensorflow/lib/python3.9/site-packages/konlpy/tag/_okt.py:89\u001b[0m, in \u001b[0;36mOkt.morphs\u001b[0;34m(self, phrase, norm, stem)\u001b[0m\n\u001b[1;32m     86\u001b[0m \u001b[39mdef\u001b[39;00m \u001b[39mmorphs\u001b[39m(\u001b[39mself\u001b[39m, phrase, norm\u001b[39m=\u001b[39m\u001b[39mFalse\u001b[39;00m, stem\u001b[39m=\u001b[39m\u001b[39mFalse\u001b[39;00m):\n\u001b[1;32m     87\u001b[0m     \u001b[39m\"\"\"Parse phrase to morphemes.\"\"\"\u001b[39;00m\n\u001b[0;32m---> 89\u001b[0m     \u001b[39mreturn\u001b[39;00m [s \u001b[39mfor\u001b[39;00m s, t \u001b[39min\u001b[39;00m \u001b[39mself\u001b[39;49m\u001b[39m.\u001b[39;49mpos(phrase, norm\u001b[39m=\u001b[39;49mnorm, stem\u001b[39m=\u001b[39;49mstem)]\n",
      "File \u001b[0;32m~/miniforge3/envs/tensorflow/lib/python3.9/site-packages/konlpy/tag/_okt.py:69\u001b[0m, in \u001b[0;36mOkt.pos\u001b[0;34m(self, phrase, norm, stem, join)\u001b[0m\n\u001b[1;32m     58\u001b[0m \u001b[39mdef\u001b[39;00m \u001b[39mpos\u001b[39m(\u001b[39mself\u001b[39m, phrase, norm\u001b[39m=\u001b[39m\u001b[39mFalse\u001b[39;00m, stem\u001b[39m=\u001b[39m\u001b[39mFalse\u001b[39;00m, join\u001b[39m=\u001b[39m\u001b[39mFalse\u001b[39;00m):\n\u001b[1;32m     59\u001b[0m     \u001b[39m\"\"\"POS tagger.\u001b[39;00m\n\u001b[1;32m     60\u001b[0m \u001b[39m    In contrast to other classes in this subpackage,\u001b[39;00m\n\u001b[1;32m     61\u001b[0m \u001b[39m    this POS tagger doesn't have a `flatten` option,\u001b[39;00m\n\u001b[0;32m   (...)\u001b[0m\n\u001b[1;32m     67\u001b[0m \u001b[39m    :param join: If True, returns joined sets of morph and tag.\u001b[39;00m\n\u001b[1;32m     68\u001b[0m \u001b[39m    \"\"\"\u001b[39;00m\n\u001b[0;32m---> 69\u001b[0m     validate_phrase_inputs(phrase)\n\u001b[1;32m     71\u001b[0m     tokens \u001b[39m=\u001b[39m \u001b[39mself\u001b[39m\u001b[39m.\u001b[39mjki\u001b[39m.\u001b[39mtokenize(\n\u001b[1;32m     72\u001b[0m                 phrase,\n\u001b[1;32m     73\u001b[0m                 jpype\u001b[39m.\u001b[39mjava\u001b[39m.\u001b[39mlang\u001b[39m.\u001b[39mBoolean(norm),\n\u001b[1;32m     74\u001b[0m                 jpype\u001b[39m.\u001b[39mjava\u001b[39m.\u001b[39mlang\u001b[39m.\u001b[39mBoolean(stem))\u001b[39m.\u001b[39mtoArray()\n\u001b[1;32m     75\u001b[0m     \u001b[39mif\u001b[39;00m join:\n",
      "File \u001b[0;32m~/miniforge3/envs/tensorflow/lib/python3.9/site-packages/konlpy/tag/_common.py:20\u001b[0m, in \u001b[0;36mvalidate_phrase_inputs\u001b[0;34m(phrase)\u001b[0m\n\u001b[1;32m     14\u001b[0m \u001b[39m\"\"\"validate if phrase input is provided in str format\u001b[39;00m\n\u001b[1;32m     15\u001b[0m \n\u001b[1;32m     16\u001b[0m \u001b[39mArgs:\u001b[39;00m\n\u001b[1;32m     17\u001b[0m \u001b[39m    phrase (str): phrase input\u001b[39;00m\n\u001b[1;32m     18\u001b[0m \u001b[39m\"\"\"\u001b[39;00m\n\u001b[1;32m     19\u001b[0m msg \u001b[39m=\u001b[39m \u001b[39m\"\u001b[39m\u001b[39mphrase input should be string, not \u001b[39m\u001b[39m%s\u001b[39;00m\u001b[39m\"\u001b[39m \u001b[39m%\u001b[39m \u001b[39mtype\u001b[39m(phrase)\n\u001b[0;32m---> 20\u001b[0m \u001b[39massert\u001b[39;00m \u001b[39misinstance\u001b[39m(phrase, basestring), msg\n",
      "\u001b[0;31mAssertionError\u001b[0m: phrase input should be string, not <java class 'java.lang.String'>"
     ]
    }
   ],
   "source": [
    "tokenized_sent=tokenize(sample_data)"
   ]
  },
  {
   "cell_type": "markdown",
   "metadata": {},
   "source": [
    "### 긍부정 점수계산 함수화"
   ]
  },
  {
   "cell_type": "code",
   "execution_count": 12,
   "metadata": {},
   "outputs": [],
   "source": [
    "def sent_analyz(tokenized_sent):\n",
    "    result = []\n",
    "    for i in range(len(data)):\n",
    "        for k in range(len(tokenized_sent)):\n",
    "            if data[i]['word']==tokenized_sent[k]:\n",
    "                result.append(data[i]['word_root'])\n",
    "                result.append(data[i]['polarity'])\t\n",
    "                \n",
    "    #점수계산     \n",
    "    a=result[1::2]\n",
    "    change_int=list(map(int, a))   \n",
    "\n",
    "\n",
    "    try:\n",
    "        score=(sum(change_int)/len(a))+3\n",
    "    except:\n",
    "        score=0\n",
    "    #print(score)\n",
    "\n",
    "    return score"
   ]
  },
  {
   "cell_type": "markdown",
   "metadata": {},
   "source": [
    "### 입력받은 n개 데이터를 전처리부터 긍부정예측까지 하는 함수"
   ]
  },
  {
   "cell_type": "code",
   "execution_count": 13,
   "metadata": {},
   "outputs": [],
   "source": [
    "# 입력받은 리뷰 데이터들 토큰화해서 점수계산\n",
    "def all_process_analyze(want_analyze_col):\n",
    "    token_sent=tokenize(want_analyze_col)\n",
    "    \n",
    "    sent_score_list=[]\n",
    "    for i in range(len(token_sent)):\n",
    "        sent_score_list.append(sent_analyz(token_sent[i]))\n",
    "    total_score = round(sum(sent_score_list)/len(sent_score_list), 2)\n",
    "    return total_score, sent_score_list"
   ]
  },
  {
   "cell_type": "code",
   "execution_count": 14,
   "metadata": {},
   "outputs": [
    {
     "ename": "AssertionError",
     "evalue": "phrase input should be string, not <java class 'java.lang.String'>",
     "output_type": "error",
     "traceback": [
      "\u001b[0;31m---------------------------------------------------------------------------\u001b[0m",
      "\u001b[0;31mAssertionError\u001b[0m                            Traceback (most recent call last)",
      "\u001b[1;32m/Users/luvooya/Desktop/EDEN_TNS_project/Personal_Folders/Hyelee/pages/sen_dict_score.ipynb 셀 14\u001b[0m in \u001b[0;36m<cell line: 1>\u001b[0;34m()\u001b[0m\n\u001b[0;32m----> <a href='vscode-notebook-cell:/Users/luvooya/Desktop/EDEN_TNS_project/Personal_Folders/Hyelee/pages/sen_dict_score.ipynb#X16sZmlsZQ%3D%3D?line=0'>1</a>\u001b[0m total_score, sent_score_list \u001b[39m=\u001b[39m all_process_analyze(sample_data)\n",
      "\u001b[1;32m/Users/luvooya/Desktop/EDEN_TNS_project/Personal_Folders/Hyelee/pages/sen_dict_score.ipynb 셀 14\u001b[0m in \u001b[0;36mall_process_analyze\u001b[0;34m(want_analyze_col)\u001b[0m\n\u001b[1;32m      <a href='vscode-notebook-cell:/Users/luvooya/Desktop/EDEN_TNS_project/Personal_Folders/Hyelee/pages/sen_dict_score.ipynb#X16sZmlsZQ%3D%3D?line=1'>2</a>\u001b[0m \u001b[39mdef\u001b[39;00m \u001b[39mall_process_analyze\u001b[39m(want_analyze_col):\n\u001b[0;32m----> <a href='vscode-notebook-cell:/Users/luvooya/Desktop/EDEN_TNS_project/Personal_Folders/Hyelee/pages/sen_dict_score.ipynb#X16sZmlsZQ%3D%3D?line=2'>3</a>\u001b[0m     token_sent\u001b[39m=\u001b[39mtokenize(want_analyze_col)\n\u001b[1;32m      <a href='vscode-notebook-cell:/Users/luvooya/Desktop/EDEN_TNS_project/Personal_Folders/Hyelee/pages/sen_dict_score.ipynb#X16sZmlsZQ%3D%3D?line=4'>5</a>\u001b[0m     sent_score_list\u001b[39m=\u001b[39m[]\n\u001b[1;32m      <a href='vscode-notebook-cell:/Users/luvooya/Desktop/EDEN_TNS_project/Personal_Folders/Hyelee/pages/sen_dict_score.ipynb#X16sZmlsZQ%3D%3D?line=5'>6</a>\u001b[0m     \u001b[39mfor\u001b[39;00m i \u001b[39min\u001b[39;00m \u001b[39mrange\u001b[39m(\u001b[39mlen\u001b[39m(token_sent)):\n",
      "\u001b[1;32m/Users/luvooya/Desktop/EDEN_TNS_project/Personal_Folders/Hyelee/pages/sen_dict_score.ipynb 셀 14\u001b[0m in \u001b[0;36mtokenize\u001b[0;34m(sample_data)\u001b[0m\n\u001b[1;32m      <a href='vscode-notebook-cell:/Users/luvooya/Desktop/EDEN_TNS_project/Personal_Folders/Hyelee/pages/sen_dict_score.ipynb#X16sZmlsZQ%3D%3D?line=3'>4</a>\u001b[0m tokenized_sent\u001b[39m=\u001b[39m[]\n\u001b[1;32m      <a href='vscode-notebook-cell:/Users/luvooya/Desktop/EDEN_TNS_project/Personal_Folders/Hyelee/pages/sen_dict_score.ipynb#X16sZmlsZQ%3D%3D?line=4'>5</a>\u001b[0m \u001b[39mfor\u001b[39;00m i \u001b[39min\u001b[39;00m \u001b[39mrange\u001b[39m(\u001b[39mlen\u001b[39m(sample_data)):\n\u001b[0;32m----> <a href='vscode-notebook-cell:/Users/luvooya/Desktop/EDEN_TNS_project/Personal_Folders/Hyelee/pages/sen_dict_score.ipynb#X16sZmlsZQ%3D%3D?line=5'>6</a>\u001b[0m     tokenized_sent\u001b[39m.\u001b[39mappend(okt\u001b[39m.\u001b[39;49mmorphs(sample_data_normalize[i], stem\u001b[39m=\u001b[39;49m\u001b[39mTrue\u001b[39;49;00m)) \n\u001b[1;32m      <a href='vscode-notebook-cell:/Users/luvooya/Desktop/EDEN_TNS_project/Personal_Folders/Hyelee/pages/sen_dict_score.ipynb#X16sZmlsZQ%3D%3D?line=7'>8</a>\u001b[0m \u001b[39mreturn\u001b[39;00m tokenized_sent\n",
      "File \u001b[0;32m~/miniforge3/envs/tensorflow/lib/python3.9/site-packages/konlpy/tag/_okt.py:89\u001b[0m, in \u001b[0;36mOkt.morphs\u001b[0;34m(self, phrase, norm, stem)\u001b[0m\n\u001b[1;32m     86\u001b[0m \u001b[39mdef\u001b[39;00m \u001b[39mmorphs\u001b[39m(\u001b[39mself\u001b[39m, phrase, norm\u001b[39m=\u001b[39m\u001b[39mFalse\u001b[39;00m, stem\u001b[39m=\u001b[39m\u001b[39mFalse\u001b[39;00m):\n\u001b[1;32m     87\u001b[0m     \u001b[39m\"\"\"Parse phrase to morphemes.\"\"\"\u001b[39;00m\n\u001b[0;32m---> 89\u001b[0m     \u001b[39mreturn\u001b[39;00m [s \u001b[39mfor\u001b[39;00m s, t \u001b[39min\u001b[39;00m \u001b[39mself\u001b[39;49m\u001b[39m.\u001b[39;49mpos(phrase, norm\u001b[39m=\u001b[39;49mnorm, stem\u001b[39m=\u001b[39;49mstem)]\n",
      "File \u001b[0;32m~/miniforge3/envs/tensorflow/lib/python3.9/site-packages/konlpy/tag/_okt.py:69\u001b[0m, in \u001b[0;36mOkt.pos\u001b[0;34m(self, phrase, norm, stem, join)\u001b[0m\n\u001b[1;32m     58\u001b[0m \u001b[39mdef\u001b[39;00m \u001b[39mpos\u001b[39m(\u001b[39mself\u001b[39m, phrase, norm\u001b[39m=\u001b[39m\u001b[39mFalse\u001b[39;00m, stem\u001b[39m=\u001b[39m\u001b[39mFalse\u001b[39;00m, join\u001b[39m=\u001b[39m\u001b[39mFalse\u001b[39;00m):\n\u001b[1;32m     59\u001b[0m     \u001b[39m\"\"\"POS tagger.\u001b[39;00m\n\u001b[1;32m     60\u001b[0m \u001b[39m    In contrast to other classes in this subpackage,\u001b[39;00m\n\u001b[1;32m     61\u001b[0m \u001b[39m    this POS tagger doesn't have a `flatten` option,\u001b[39;00m\n\u001b[0;32m   (...)\u001b[0m\n\u001b[1;32m     67\u001b[0m \u001b[39m    :param join: If True, returns joined sets of morph and tag.\u001b[39;00m\n\u001b[1;32m     68\u001b[0m \u001b[39m    \"\"\"\u001b[39;00m\n\u001b[0;32m---> 69\u001b[0m     validate_phrase_inputs(phrase)\n\u001b[1;32m     71\u001b[0m     tokens \u001b[39m=\u001b[39m \u001b[39mself\u001b[39m\u001b[39m.\u001b[39mjki\u001b[39m.\u001b[39mtokenize(\n\u001b[1;32m     72\u001b[0m                 phrase,\n\u001b[1;32m     73\u001b[0m                 jpype\u001b[39m.\u001b[39mjava\u001b[39m.\u001b[39mlang\u001b[39m.\u001b[39mBoolean(norm),\n\u001b[1;32m     74\u001b[0m                 jpype\u001b[39m.\u001b[39mjava\u001b[39m.\u001b[39mlang\u001b[39m.\u001b[39mBoolean(stem))\u001b[39m.\u001b[39mtoArray()\n\u001b[1;32m     75\u001b[0m     \u001b[39mif\u001b[39;00m join:\n",
      "File \u001b[0;32m~/miniforge3/envs/tensorflow/lib/python3.9/site-packages/konlpy/tag/_common.py:20\u001b[0m, in \u001b[0;36mvalidate_phrase_inputs\u001b[0;34m(phrase)\u001b[0m\n\u001b[1;32m     14\u001b[0m \u001b[39m\"\"\"validate if phrase input is provided in str format\u001b[39;00m\n\u001b[1;32m     15\u001b[0m \n\u001b[1;32m     16\u001b[0m \u001b[39mArgs:\u001b[39;00m\n\u001b[1;32m     17\u001b[0m \u001b[39m    phrase (str): phrase input\u001b[39;00m\n\u001b[1;32m     18\u001b[0m \u001b[39m\"\"\"\u001b[39;00m\n\u001b[1;32m     19\u001b[0m msg \u001b[39m=\u001b[39m \u001b[39m\"\u001b[39m\u001b[39mphrase input should be string, not \u001b[39m\u001b[39m%s\u001b[39;00m\u001b[39m\"\u001b[39m \u001b[39m%\u001b[39m \u001b[39mtype\u001b[39m(phrase)\n\u001b[0;32m---> 20\u001b[0m \u001b[39massert\u001b[39;00m \u001b[39misinstance\u001b[39m(phrase, basestring), msg\n",
      "\u001b[0;31mAssertionError\u001b[0m: phrase input should be string, not <java class 'java.lang.String'>"
     ]
    }
   ],
   "source": [
    "total_score, sent_score_list = all_process_analyze(sample_data)"
   ]
  },
  {
   "cell_type": "code",
   "execution_count": 80,
   "metadata": {},
   "outputs": [],
   "source": [
    "total_review['score']=sent_score_list"
   ]
  },
  {
   "cell_type": "code",
   "execution_count": 81,
   "metadata": {},
   "outputs": [
    {
     "data": {
      "text/html": [
       "<div>\n",
       "<style scoped>\n",
       "    .dataframe tbody tr th:only-of-type {\n",
       "        vertical-align: middle;\n",
       "    }\n",
       "\n",
       "    .dataframe tbody tr th {\n",
       "        vertical-align: top;\n",
       "    }\n",
       "\n",
       "    .dataframe thead th {\n",
       "        text-align: right;\n",
       "    }\n",
       "</style>\n",
       "<table border=\"1\" class=\"dataframe\">\n",
       "  <thead>\n",
       "    <tr style=\"text-align: right;\">\n",
       "      <th></th>\n",
       "      <th>type</th>\n",
       "      <th>review</th>\n",
       "      <th>star</th>\n",
       "      <th>date</th>\n",
       "      <th>site</th>\n",
       "      <th>score</th>\n",
       "    </tr>\n",
       "  </thead>\n",
       "  <tbody>\n",
       "    <tr>\n",
       "      <th>0</th>\n",
       "      <td>농심 신라면</td>\n",
       "      <td>제 2의 주식. 쌀과 같은 존재.</td>\n",
       "      <td>5</td>\n",
       "      <td>221118</td>\n",
       "      <td>롯데마트</td>\n",
       "      <td>0.000000</td>\n",
       "    </tr>\n",
       "    <tr>\n",
       "      <th>1</th>\n",
       "      <td>농심 신라면</td>\n",
       "      <td>라면 왜이리 오르는지요....농심을 떠날때가 되었나...</td>\n",
       "      <td>5</td>\n",
       "      <td>221117</td>\n",
       "      <td>SSG닷컴</td>\n",
       "      <td>0.000000</td>\n",
       "    </tr>\n",
       "    <tr>\n",
       "      <th>2</th>\n",
       "      <td>농심 신라면</td>\n",
       "      <td>면발이 쫀득하고 국물이 얼큰해요 다아는맛 맛있어요</td>\n",
       "      <td>5</td>\n",
       "      <td>221117</td>\n",
       "      <td>롯데마트</td>\n",
       "      <td>5.000000</td>\n",
       "    </tr>\n",
       "    <tr>\n",
       "      <th>3</th>\n",
       "      <td>농심 신라면</td>\n",
       "      <td>좋아하지는 않는데 가끔 생각나서 구매했습니다</td>\n",
       "      <td>4</td>\n",
       "      <td>221117</td>\n",
       "      <td>롯데마트</td>\n",
       "      <td>5.000000</td>\n",
       "    </tr>\n",
       "    <tr>\n",
       "      <th>4</th>\n",
       "      <td>농심 신라면</td>\n",
       "      <td>자주 먹진 않아도 비상식품으로 갖춰둡니다.</td>\n",
       "      <td>5</td>\n",
       "      <td>221117</td>\n",
       "      <td>롯데마트</td>\n",
       "      <td>4.000000</td>\n",
       "    </tr>\n",
       "    <tr>\n",
       "      <th>...</th>\n",
       "      <td>...</td>\n",
       "      <td>...</td>\n",
       "      <td>...</td>\n",
       "      <td>...</td>\n",
       "      <td>...</td>\n",
       "      <td>...</td>\n",
       "    </tr>\n",
       "    <tr>\n",
       "      <th>3775</th>\n",
       "      <td>농심 신라면</td>\n",
       "      <td>언제나 쟁여두고 먹는 신라면!</td>\n",
       "      <td>5</td>\n",
       "      <td>221105</td>\n",
       "      <td>롯데ON</td>\n",
       "      <td>0.000000</td>\n",
       "    </tr>\n",
       "    <tr>\n",
       "      <th>3776</th>\n",
       "      <td>농심 신라면</td>\n",
       "      <td>좋아요마니파세요잘먹알께요</td>\n",
       "      <td>5</td>\n",
       "      <td>221105</td>\n",
       "      <td>Homeplus</td>\n",
       "      <td>5.000000</td>\n",
       "    </tr>\n",
       "    <tr>\n",
       "      <th>3777</th>\n",
       "      <td>농심 신라면</td>\n",
       "      <td>신라면은 언제나 맛있습니다</td>\n",
       "      <td>5</td>\n",
       "      <td>221105</td>\n",
       "      <td>11번가</td>\n",
       "      <td>5.000000</td>\n",
       "    </tr>\n",
       "    <tr>\n",
       "      <th>3778</th>\n",
       "      <td>농심 신라면</td>\n",
       "      <td>포장꼼꼼하고 맛있고 좋아여.</td>\n",
       "      <td>5</td>\n",
       "      <td>221105</td>\n",
       "      <td>GSSHOP</td>\n",
       "      <td>4.666667</td>\n",
       "    </tr>\n",
       "    <tr>\n",
       "      <th>3779</th>\n",
       "      <td>농심 신라면</td>\n",
       "      <td>신라면 떨어지면 쟁여놔야죠</td>\n",
       "      <td>5</td>\n",
       "      <td>221105</td>\n",
       "      <td>이마트몰</td>\n",
       "      <td>2.000000</td>\n",
       "    </tr>\n",
       "  </tbody>\n",
       "</table>\n",
       "<p>3780 rows × 6 columns</p>\n",
       "</div>"
      ],
      "text/plain": [
       "        type                           review  star    date      site  \\\n",
       "0     농심 신라면               제 2의 주식. 쌀과 같은 존재.     5  221118      롯데마트   \n",
       "1     농심 신라면  라면 왜이리 오르는지요....농심을 떠날때가 되었나...     5  221117     SSG닷컴   \n",
       "2     농심 신라면      면발이 쫀득하고 국물이 얼큰해요 다아는맛 맛있어요     5  221117      롯데마트   \n",
       "3     농심 신라면         좋아하지는 않는데 가끔 생각나서 구매했습니다     4  221117      롯데마트   \n",
       "4     농심 신라면          자주 먹진 않아도 비상식품으로 갖춰둡니다.     5  221117      롯데마트   \n",
       "...      ...                              ...   ...     ...       ...   \n",
       "3775  농심 신라면                 언제나 쟁여두고 먹는 신라면!     5  221105      롯데ON   \n",
       "3776  농심 신라면                    좋아요마니파세요잘먹알께요     5  221105  Homeplus   \n",
       "3777  농심 신라면                   신라면은 언제나 맛있습니다     5  221105      11번가   \n",
       "3778  농심 신라면                  포장꼼꼼하고 맛있고 좋아여.     5  221105    GSSHOP   \n",
       "3779  농심 신라면                   신라면 떨어지면 쟁여놔야죠     5  221105      이마트몰   \n",
       "\n",
       "         score  \n",
       "0     0.000000  \n",
       "1     0.000000  \n",
       "2     5.000000  \n",
       "3     5.000000  \n",
       "4     4.000000  \n",
       "...        ...  \n",
       "3775  0.000000  \n",
       "3776  5.000000  \n",
       "3777  5.000000  \n",
       "3778  4.666667  \n",
       "3779  2.000000  \n",
       "\n",
       "[3780 rows x 6 columns]"
      ]
     },
     "execution_count": 81,
     "metadata": {},
     "output_type": "execute_result"
    }
   ],
   "source": [
    "# 감성사전 통과한 review들의 점수를 'score'컬럼에 추가\n",
    "total_review"
   ]
  },
  {
   "cell_type": "markdown",
   "metadata": {},
   "source": [
    "### 긍부정 문장 비율 계산"
   ]
  },
  {
   "cell_type": "code",
   "execution_count": 62,
   "metadata": {},
   "outputs": [],
   "source": [
    "# 긍부정 문장비율 파이차트 반환\n",
    "def pos_neg_ratio():\n",
    "    pos_sent=[]\n",
    "    neg_sent=[]\n",
    "\n",
    "    for score in sent_score_list:\n",
    "        if score > 3.3:\n",
    "            pos_sent.append(score)\n",
    "        elif score < 2.7:\n",
    "            neg_sent.append(score)    \n",
    "\n",
    "    ratio = [len(pos_sent)/len(sent_score_list), len(neg_sent)/len(sent_score_list)]\n",
    "    labels = ['Postive', 'Negative']\n",
    "    plt.title('Pos, Neg Review Ratio')\n",
    "    plt.pie(ratio, labels=labels, autopct='%.1f%%', startangle=90)\n",
    "    plt.show()\n"
   ]
  },
  {
   "cell_type": "code",
   "execution_count": 63,
   "metadata": {},
   "outputs": [
    {
     "data": {
      "image/png": "[encoded data removed]",
      "text/plain": [
       "<Figure size 432x288 with 1 Axes>"
      ]
     },
     "metadata": {},
     "output_type": "display_data"
    }
   ],
   "source": [
    "pos_neg_ratio()"
   ]
  },
  {
   "cell_type": "markdown",
   "metadata": {},
   "source": [
    "### 많이쓰인 긍부정 단어 워드 클라우드"
   ]
  },
  {
   "cell_type": "code",
   "execution_count": 64,
   "metadata": {},
   "outputs": [],
   "source": [
    "# 한문장 감성사전 통과하고 긍부정 단어 나눠서 담기 함수\n",
    "\n",
    "def word_key_cloud(tokenized_sent):\n",
    "\n",
    "    pos_word=[]\n",
    "    neg_word=[]\n",
    "    for i in range(len(data)):\n",
    "        for k in range(len(tokenized_sent)):\n",
    "            if data[i]['word']==tokenized_sent[k]:\n",
    "                if data[i]['polarity'] in ('1', '2'):\n",
    "                    pos_word.append(data[i]['word_root'])\n",
    "                elif data[i]['polarity'] in ('-1', '-2'):\n",
    "                    neg_word.append(data[i]['word_root'])   \n",
    "                \n",
    "    \n",
    "\n",
    "    return pos_word, neg_word"
   ]
  },
  {
   "cell_type": "code",
   "execution_count": 65,
   "metadata": {},
   "outputs": [],
   "source": [
    "def seprate_pos_neg():\n",
    "    # n개문장 word_key_cloud 함수 적용하기\n",
    "    word_list=[]\n",
    "    for i in range(len(tokenized_sent)):\n",
    "        word_list.append(word_key_cloud(tokenized_sent[i]))\n",
    "\n",
    "    # 감성사전 통과한 단어들 리스트2개에서 빼내서 긍부정 리스트에 각각 담기\n",
    "    pos_word=[]\n",
    "    neg_word=[]\n",
    "\n",
    "    for list in word_list:\n",
    "        pos_word.append(list[0])\n",
    "        neg_word.append(list[1])\n",
    "\n",
    "    # 긍정)) 감성사전 통과한 단어들 리스트2개에서 빼내서 담기\n",
    "    pos_filterd_word=[]\n",
    "    for pos_one_word in pos_word:\n",
    "        for word in pos_one_word:\n",
    "            pos_filterd_word.append(word)\n",
    "    \n",
    "\n",
    "    # 부정)) 감성사전 통과한 단어들 리스트2개에서 빼내서 담기\n",
    "    neg_filterd_word=[]\n",
    "    for neg_one_word in neg_word:\n",
    "        for word in neg_one_word:\n",
    "            neg_filterd_word.append(word)\n",
    "    \n",
    "\n",
    "    return pos_filterd_word, neg_filterd_word\n"
   ]
  },
  {
   "cell_type": "code",
   "execution_count": 66,
   "metadata": {},
   "outputs": [],
   "source": [
    "pos_filterd_word, neg_filterd_word=seprate_pos_neg()"
   ]
  },
  {
   "cell_type": "code",
   "execution_count": 67,
   "metadata": {},
   "outputs": [],
   "source": [
    "def make_cloud(filterd_word):\n",
    "    pos_or_neg_num = Counter(filterd_word)\n",
    "    # 긍정 워드클라우드\n",
    "    wc = WordCloud(font_path='malgun', width=400, height=400, scale=2.0, max_font_size=250, max_words=15)\n",
    "    gen = wc.generate_from_frequencies(pos_or_neg_num)\n",
    "    plt.figure(frameon=False)\n",
    "\n",
    "    # 워드크라우드 배경제거\n",
    "    #plt.figure(figsize=(20, 20))\n",
    "    fig = plt.imshow(gen)\n",
    "    fig.axes.get_xaxis().set_visible(False)\n",
    "    fig.axes.get_yaxis().set_visible(False)"
   ]
  },
  {
   "cell_type": "code",
   "execution_count": 68,
   "metadata": {},
   "outputs": [
    {
     "data": {
      "image/png": "[encoded data removed]",
      "text/plain": [
       "<Figure size 432x288 with 1 Axes>"
      ]
     },
     "metadata": {
      "needs_background": "light"
     },
     "output_type": "display_data"
    }
   ],
   "source": [
    "make_cloud(pos_filterd_word)"
   ]
  },
  {
   "cell_type": "code",
   "execution_count": 69,
   "metadata": {},
   "outputs": [
    {
     "data": {
      "image/png": "[encoded data removed]",
      "text/plain": [
       "<Figure size 432x288 with 1 Axes>"
      ]
     },
     "metadata": {
      "needs_background": "light"
     },
     "output_type": "display_data"
    }
   ],
   "source": [
    "make_cloud(neg_filterd_word)"
   ]
  },
  {
   "cell_type": "code",
   "execution_count": null,
   "metadata": {},
   "outputs": [],
   "source": []
  }
 ],
 "metadata": {
  "kernelspec": {
   "display_name": "Python 3 (ipykernel)",
   "language": "python",
   "name": "python3"
  },
  "language_info": {
   "codemirror_mode": {
    "name": "ipython",
    "version": 3
   },
   "file_extension": ".py",
   "mimetype": "text/x-python",
   "name": "python",
   "nbconvert_exporter": "python",
   "pygments_lexer": "ipython3",
   "version": "3.9.13"
  },
  "vscode": {
   "interpreter": {
    "hash": "7f3d7e817cb26ff3dcc66804eac96d70d0dc716b080105838c0409179fd7e344"
   }
  }
 },
 "nbformat": 4,
 "nbformat_minor": 2
}
